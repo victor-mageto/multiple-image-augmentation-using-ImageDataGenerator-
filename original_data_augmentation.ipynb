{
  "nbformat": 4,
  "nbformat_minor": 0,
  "metadata": {
    "colab": {
      "name": "original data augmentation.ipynb",
      "provenance": []
    },
    "kernelspec": {
      "name": "python3",
      "display_name": "Python 3"
    },
    "accelerator": "GPU"
  },
  "cells": [
    {
      "cell_type": "code",
      "metadata": {
        "id": "MnN_q3ESOPio",
        "colab_type": "code",
        "colab": {
          "base_uri": "https://localhost:8080/",
          "height": 34
        },
        "outputId": "b9886d7a-211c-4bbf-97c7-8679925c7dad"
      },
      "source": [
        "from google.colab import drive\n",
        "drive.mount('/content/gdrive')"
      ],
      "execution_count": 11,
      "outputs": [
        {
          "output_type": "stream",
          "text": [
            "Drive already mounted at /content/gdrive; to attempt to forcibly remount, call drive.mount(\"/content/gdrive\", force_remount=True).\n"
          ],
          "name": "stdout"
        }
      ]
    },
    {
      "cell_type": "code",
      "metadata": {
        "id": "y7KZxq7Rt4_t",
        "colab_type": "code",
        "colab": {}
      },
      "source": [
        "import numpy as np\n",
        "import keras\n",
        "from keras.preprocessing.image import ImageDataGenerator, array_to_img,img_to_array, load_img\n",
        "import os\n",
        "\n",
        "datagen = ImageDataGenerator(rotation_range =15, \n",
        "                     width_shift_range = 0.2, \n",
        "                     height_shift_range = 0.2,  \n",
        "                     rescale=1./255, \n",
        "                     shear_range=0.2, \n",
        "                     zoom_range=0.2, \n",
        "                     horizontal_flip = True, \n",
        "                     fill_mode = 'nearest', \n",
        "                     data_format='channels_last', \n",
        "                     brightness_range=[0.5, 1.5]) \n",
        "\n",
        "imgs = os.listdir('/content/gdrive/My Drive/fer/1')\n",
        "\n",
        "for img in imgs:\n",
        "    img=cv2.imread('/content/gdrive/My Drive/fer/1'+\"//\"+img)\n",
        "    x = img_to_array(img)\n",
        "    x = x.reshape((1,) + x.shape)\n",
        "\n",
        "    i = 0\n",
        "    for batch in datagen.flow (x, batch_size=1, save_to_dir =r'/content/gdrive/My Drive/fer/2', save_prefix ='people2', save_format='jpg'):\n",
        "        i+=1\n",
        "        if i>10:\n",
        "            break"
      ],
      "execution_count": 0,
      "outputs": []
    }
  ]
}